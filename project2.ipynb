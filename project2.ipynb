{
 "cells": [
  {
   "cell_type": "markdown",
   "metadata": {},
   "source": [
    "# Section 1: Dataset  \n",
    "\n",
    "The dataset that I chose is a dataset of season 13 stats for each champion in the game *League of Legends*. Some of these stats include winrate(how often a champion wins when played), ban rate(how often champion is banned), kda((Kill+Death)/Assist ratio of the champion), name(name of the champion), role(roles are where the champion is played, these include: top, mid, jungle, adc, and support), lastly score(overall score for the champion).\n",
    "\n",
    "The reason I chose this dataset and why it is meaningful to me is because I'm a huge fan of the  \n",
    "game and I love to watch professional *LoL* games. I have been playing the game for years ever  \n",
    "since I was in high school, so it holds a special place in my heart that I think no other game  \n",
    "will ever come close to reaching.  \n",
    "\n",
    "I went about finding my dataset by just looking through google for *LoL* datasets in csv format.  \n",
    "Once I found a dataset I looked through it to see what it contained and if I wanted to use it  \n",
    "or not. I found a lot of datasets about stats for matches played, but I wanted to focus on one  \n",
    "area more specifically, so when I found this dataset on just champion stats it was perfect. I  \n",
    "did have to use code I found online in order to get rid of percent symbols in the dataset.     \n",
    " \n",
    "\n"
   ]
  },
  {
   "cell_type": "code",
   "execution_count": 14,
   "metadata": {},
   "outputs": [
    {
     "data": {
      "text/html": [
       "<div>\n",
       "<style scoped>\n",
       "    .dataframe tbody tr th:only-of-type {\n",
       "        vertical-align: middle;\n",
       "    }\n",
       "\n",
       "    .dataframe tbody tr th {\n",
       "        vertical-align: top;\n",
       "    }\n",
       "\n",
       "    .dataframe thead th {\n",
       "        text-align: right;\n",
       "    }\n",
       "</style>\n",
       "<table border=\"1\" class=\"dataframe\">\n",
       "  <thead>\n",
       "    <tr style=\"text-align: right;\">\n",
       "      <th></th>\n",
       "      <th>Name</th>\n",
       "      <th>Class</th>\n",
       "      <th>Role</th>\n",
       "      <th>Tier</th>\n",
       "      <th>Score</th>\n",
       "      <th>Trend</th>\n",
       "      <th>Win %</th>\n",
       "      <th>Role %</th>\n",
       "      <th>Pick %</th>\n",
       "      <th>Ban %</th>\n",
       "      <th>KDA</th>\n",
       "    </tr>\n",
       "  </thead>\n",
       "  <tbody>\n",
       "    <tr>\n",
       "      <th>0</th>\n",
       "      <td>Aatrox</td>\n",
       "      <td>Fighter</td>\n",
       "      <td>TOP</td>\n",
       "      <td>God</td>\n",
       "      <td>71.25</td>\n",
       "      <td>-3.39</td>\n",
       "      <td>48.84</td>\n",
       "      <td>92.28</td>\n",
       "      <td>7.01</td>\n",
       "      <td>5.81</td>\n",
       "      <td>1.85</td>\n",
       "    </tr>\n",
       "    <tr>\n",
       "      <th>1</th>\n",
       "      <td>Ahri</td>\n",
       "      <td>Mage</td>\n",
       "      <td>MID</td>\n",
       "      <td>God</td>\n",
       "      <td>77.12</td>\n",
       "      <td>-5.03</td>\n",
       "      <td>50.90</td>\n",
       "      <td>95.23</td>\n",
       "      <td>10.63</td>\n",
       "      <td>6.47</td>\n",
       "      <td>2.63</td>\n",
       "    </tr>\n",
       "    <tr>\n",
       "      <th>2</th>\n",
       "      <td>Akali</td>\n",
       "      <td>Assassin</td>\n",
       "      <td>MID</td>\n",
       "      <td>A</td>\n",
       "      <td>55.37</td>\n",
       "      <td>-5.08</td>\n",
       "      <td>48.18</td>\n",
       "      <td>78.45</td>\n",
       "      <td>5.99</td>\n",
       "      <td>8.10</td>\n",
       "      <td>2.30</td>\n",
       "    </tr>\n",
       "    <tr>\n",
       "      <th>3</th>\n",
       "      <td>Akali</td>\n",
       "      <td>Assassin</td>\n",
       "      <td>TOP</td>\n",
       "      <td>C</td>\n",
       "      <td>36.35</td>\n",
       "      <td>-0.60</td>\n",
       "      <td>48.50</td>\n",
       "      <td>20.39</td>\n",
       "      <td>1.45</td>\n",
       "      <td>8.10</td>\n",
       "      <td>2.06</td>\n",
       "    </tr>\n",
       "    <tr>\n",
       "      <th>4</th>\n",
       "      <td>Akshan</td>\n",
       "      <td>Marksman</td>\n",
       "      <td>MID</td>\n",
       "      <td>B</td>\n",
       "      <td>47.25</td>\n",
       "      <td>-1.50</td>\n",
       "      <td>50.15</td>\n",
       "      <td>69.32</td>\n",
       "      <td>2.88</td>\n",
       "      <td>5.94</td>\n",
       "      <td>2.16</td>\n",
       "    </tr>\n",
       "    <tr>\n",
       "      <th>...</th>\n",
       "      <td>...</td>\n",
       "      <td>...</td>\n",
       "      <td>...</td>\n",
       "      <td>...</td>\n",
       "      <td>...</td>\n",
       "      <td>...</td>\n",
       "      <td>...</td>\n",
       "      <td>...</td>\n",
       "      <td>...</td>\n",
       "      <td>...</td>\n",
       "      <td>...</td>\n",
       "    </tr>\n",
       "    <tr>\n",
       "      <th>242</th>\n",
       "      <td>Zilean</td>\n",
       "      <td>Support</td>\n",
       "      <td>MID</td>\n",
       "      <td>A</td>\n",
       "      <td>52.02</td>\n",
       "      <td>4.90</td>\n",
       "      <td>53.91</td>\n",
       "      <td>13.72</td>\n",
       "      <td>0.31</td>\n",
       "      <td>0.76</td>\n",
       "      <td>3.52</td>\n",
       "    </tr>\n",
       "    <tr>\n",
       "      <th>243</th>\n",
       "      <td>Zilean</td>\n",
       "      <td>Support</td>\n",
       "      <td>SUPPORT</td>\n",
       "      <td>B</td>\n",
       "      <td>45.21</td>\n",
       "      <td>1.15</td>\n",
       "      <td>50.12</td>\n",
       "      <td>82.08</td>\n",
       "      <td>2.11</td>\n",
       "      <td>0.76</td>\n",
       "      <td>3.03</td>\n",
       "    </tr>\n",
       "    <tr>\n",
       "      <th>244</th>\n",
       "      <td>Zoe</td>\n",
       "      <td>Mage</td>\n",
       "      <td>MID</td>\n",
       "      <td>A</td>\n",
       "      <td>49.82</td>\n",
       "      <td>1.34</td>\n",
       "      <td>50.44</td>\n",
       "      <td>86.34</td>\n",
       "      <td>2.98</td>\n",
       "      <td>1.93</td>\n",
       "      <td>2.60</td>\n",
       "    </tr>\n",
       "    <tr>\n",
       "      <th>245</th>\n",
       "      <td>Zoe</td>\n",
       "      <td>Mage</td>\n",
       "      <td>SUPPORT</td>\n",
       "      <td>D</td>\n",
       "      <td>32.21</td>\n",
       "      <td>-1.45</td>\n",
       "      <td>48.67</td>\n",
       "      <td>11.43</td>\n",
       "      <td>0.40</td>\n",
       "      <td>1.97</td>\n",
       "      <td>2.11</td>\n",
       "    </tr>\n",
       "    <tr>\n",
       "      <th>246</th>\n",
       "      <td>Zyra</td>\n",
       "      <td>Mage</td>\n",
       "      <td>SUPPORT</td>\n",
       "      <td>B</td>\n",
       "      <td>46.64</td>\n",
       "      <td>-0.95</td>\n",
       "      <td>51.44</td>\n",
       "      <td>90.88</td>\n",
       "      <td>2.87</td>\n",
       "      <td>1.96</td>\n",
       "      <td>2.06</td>\n",
       "    </tr>\n",
       "  </tbody>\n",
       "</table>\n",
       "<p>247 rows × 11 columns</p>\n",
       "</div>"
      ],
      "text/plain": [
       "       Name     Class     Role Tier  Score  Trend  Win %  Role %  Pick %  \\\n",
       "0    Aatrox   Fighter      TOP  God  71.25  -3.39  48.84   92.28    7.01   \n",
       "1      Ahri      Mage      MID  God  77.12  -5.03  50.90   95.23   10.63   \n",
       "2     Akali  Assassin      MID    A  55.37  -5.08  48.18   78.45    5.99   \n",
       "3     Akali  Assassin      TOP    C  36.35  -0.60  48.50   20.39    1.45   \n",
       "4    Akshan  Marksman      MID    B  47.25  -1.50  50.15   69.32    2.88   \n",
       "..      ...       ...      ...  ...    ...    ...    ...     ...     ...   \n",
       "242  Zilean   Support      MID    A  52.02   4.90  53.91   13.72    0.31   \n",
       "243  Zilean   Support  SUPPORT    B  45.21   1.15  50.12   82.08    2.11   \n",
       "244     Zoe      Mage      MID    A  49.82   1.34  50.44   86.34    2.98   \n",
       "245     Zoe      Mage  SUPPORT    D  32.21  -1.45  48.67   11.43    0.40   \n",
       "246    Zyra      Mage  SUPPORT    B  46.64  -0.95  51.44   90.88    2.87   \n",
       "\n",
       "     Ban %   KDA  \n",
       "0     5.81  1.85  \n",
       "1     6.47  2.63  \n",
       "2     8.10  2.30  \n",
       "3     8.10  2.06  \n",
       "4     5.94  2.16  \n",
       "..     ...   ...  \n",
       "242   0.76  3.52  \n",
       "243   0.76  3.03  \n",
       "244   1.93  2.60  \n",
       "245   1.97  2.11  \n",
       "246   1.96  2.06  \n",
       "\n",
       "[247 rows x 11 columns]"
      ]
     },
     "execution_count": 14,
     "metadata": {},
     "output_type": "execute_result"
    }
   ],
   "source": [
    "import pandas as pd  \n",
    "df = pd.read_csv('League of Legends Champion Stats 13.13.csv', sep=';')  \n",
    "df['Win %'] = df['Win %'].str.rstrip('%').astype('float') #code I found online that gets rid of percent symbols\n",
    "df['Role %'] = df['Role %'].str.rstrip('%').astype('float') \n",
    "df['Pick %'] = df['Pick %'].str.rstrip('%').astype('float') \n",
    "df['Ban %'] = df['Ban %'].str.rstrip('%').astype('float')\n",
    "df"
   ]
  },
  {
   "cell_type": "markdown",
   "metadata": {},
   "source": [
    "# Section 2: Exploratory Data Analysis  \n",
    "\n",
    "In terms of descriptive statistics I would like to look at the average win rate of each role.  \n",
    "In this dataset they found the winrate for each champion, which includes what role the champion  \n",
    "was played in. In *LoL* roles such as top and support are thought to have the least impact on the  \n",
    "game, which leads to them being thought of as roles that win less since they can't \"carry\" games  \n",
    "by themselves. The 5 roles are top, mid, jungle, adc, and support. Since I'm just looking at  \n",
    "the roles in general I'm not going to filter out champions that are uncommonly played in that  \n",
    "role. \n"
   ]
  },
  {
   "cell_type": "markdown",
   "metadata": {},
   "source": [
    "Making a separate variable for each of the 5 roles"
   ]
  },
  {
   "cell_type": "code",
   "execution_count": 15,
   "metadata": {},
   "outputs": [],
   "source": [
    "role_top = df[df.Role == 'TOP'] \n",
    "role_mid = df[df.Role == 'MID'] \n",
    "role_jungle = df[df.Role == 'JUNGLE'] \n",
    "role_adc = df[df.Role == 'ADC'] \n",
    "role_support = df[df.Role == 'SUPPORT'] "
   ]
  },
  {
   "cell_type": "markdown",
   "metadata": {},
   "source": [
    "The average winrate for each of the 5 roles"
   ]
  },
  {
   "cell_type": "code",
   "execution_count": 16,
   "metadata": {},
   "outputs": [
    {
     "data": {
      "text/plain": [
       "50.17433333333334"
      ]
     },
     "execution_count": 16,
     "metadata": {},
     "output_type": "execute_result"
    }
   ],
   "source": [
    "avg_wr_top = role_top['Win %'].mean()\n",
    "avg_wr_top"
   ]
  },
  {
   "cell_type": "code",
   "execution_count": 17,
   "metadata": {},
   "outputs": [
    {
     "data": {
      "text/plain": [
       "50.73500000000001"
      ]
     },
     "execution_count": 17,
     "metadata": {},
     "output_type": "execute_result"
    }
   ],
   "source": [
    "avg_wr_mid = role_mid['Win %'].mean()\n",
    "avg_wr_mid"
   ]
  },
  {
   "cell_type": "code",
   "execution_count": 18,
   "metadata": {},
   "outputs": [
    {
     "data": {
      "text/plain": [
       "50.23458333333334"
      ]
     },
     "execution_count": 18,
     "metadata": {},
     "output_type": "execute_result"
    }
   ],
   "source": [
    "avg_wr_jungle = role_jungle['Win %'].mean()\n",
    "avg_wr_jungle"
   ]
  },
  {
   "cell_type": "code",
   "execution_count": 19,
   "metadata": {},
   "outputs": [
    {
     "data": {
      "text/plain": [
       "50.57370370370371"
      ]
     },
     "execution_count": 19,
     "metadata": {},
     "output_type": "execute_result"
    }
   ],
   "source": [
    "avg_wr_adc = role_adc['Win %'].mean()\n",
    "avg_wr_adc"
   ]
  },
  {
   "cell_type": "code",
   "execution_count": 20,
   "metadata": {},
   "outputs": [
    {
     "data": {
      "text/plain": [
       "49.8256"
      ]
     },
     "execution_count": 20,
     "metadata": {},
     "output_type": "execute_result"
    }
   ],
   "source": [
    "avg_wr_support = role_support['Win %'].mean()\n",
    "avg_wr_support"
   ]
  },
  {
   "cell_type": "markdown",
   "metadata": {},
   "source": [
    "Looking at the average winrate for all champions we can see that top and support do have the  \n",
    "lowest winrate overall, but I would say the only role with a significantly lower winrate is  \n",
    "support. This result obviously follows along with the stereotype of support and top being roles  \n",
    "that win less. This is kind of expected since in top lane you are all 'alone' fighting only your lane opponent the whole games basically, so you don't effect on the other lanes. For support it is  \n",
    "easy to understand since the support role is meant to support other players, so if the players on  \n",
    "your team aren't great you can't carry the game on your own."
   ]
  },
  {
   "cell_type": "markdown",
   "metadata": {},
   "source": [
    "# Section 3: Exploratory Data Visualization"
   ]
  },
  {
   "cell_type": "markdown",
   "metadata": {},
   "source": [
    "I'm going to create 5 scatterplots for each role that will plot   \n",
    "kda(kill-death-assist ratio, so the sum of kills and assists for every death) on the x-axis  \n",
    "and winrate on the y-axis."
   ]
  },
  {
   "cell_type": "markdown",
   "metadata": {},
   "source": [
    "Plot for top"
   ]
  },
  {
   "cell_type": "code",
   "execution_count": 30,
   "metadata": {},
   "outputs": [
    {
     "data": {
      "text/plain": [
       "<Axes: xlabel='KDA', ylabel='Win %'>"
      ]
     },
     "execution_count": 30,
     "metadata": {},
     "output_type": "execute_result"
    },
    {
     "data": {
      "image/png": "[encoded data removed]",
      "text/plain": [
       "<Figure size 640x480 with 1 Axes>"
      ]
     },
     "metadata": {},
     "output_type": "display_data"
    }
   ],
   "source": [
    "role_top.plot.scatter(x='KDA', y='Win %')"
   ]
  },
  {
   "cell_type": "markdown",
   "metadata": {},
   "source": [
    "Plot for mid "
   ]
  },
  {
   "cell_type": "code",
   "execution_count": 31,
   "metadata": {},
   "outputs": [
    {
     "data": {
      "text/plain": [
       "<Axes: xlabel='KDA', ylabel='Win %'>"
      ]
     },
     "execution_count": 31,
     "metadata": {},
     "output_type": "execute_result"
    },
    {
     "data": {
      "image/png": "[encoded data removed]",
      "text/plain": [
       "<Figure size 640x480 with 1 Axes>"
      ]
     },
     "metadata": {},
     "output_type": "display_data"
    }
   ],
   "source": [
    "role_mid.plot.scatter(x='KDA', y='Win %')"
   ]
  },
  {
   "cell_type": "markdown",
   "metadata": {},
   "source": [
    "Plot for jungle"
   ]
  },
  {
   "cell_type": "code",
   "execution_count": 32,
   "metadata": {},
   "outputs": [
    {
     "data": {
      "text/plain": [
       "<Axes: xlabel='KDA', ylabel='Win %'>"
      ]
     },
     "execution_count": 32,
     "metadata": {},
     "output_type": "execute_result"
    },
    {
     "data": {
      "image/png": "[encoded data removed]",
      "text/plain": [
       "<Figure size 640x480 with 1 Axes>"
      ]
     },
     "metadata": {},
     "output_type": "display_data"
    }
   ],
   "source": [
    "role_jungle.plot.scatter(x='KDA', y='Win %')"
   ]
  },
  {
   "cell_type": "markdown",
   "metadata": {},
   "source": [
    "Plot for adc "
   ]
  },
  {
   "cell_type": "code",
   "execution_count": 33,
   "metadata": {},
   "outputs": [
    {
     "data": {
      "text/plain": [
       "<Axes: xlabel='KDA', ylabel='Win %'>"
      ]
     },
     "execution_count": 33,
     "metadata": {},
     "output_type": "execute_result"
    },
    {
     "data": {
      "image/png": "[encoded data removed]",
      "text/plain": [
       "<Figure size 640x480 with 1 Axes>"
      ]
     },
     "metadata": {},
     "output_type": "display_data"
    }
   ],
   "source": [
    "role_adc.plot.scatter(x='KDA', y='Win %')"
   ]
  },
  {
   "cell_type": "markdown",
   "metadata": {},
   "source": [
    "Plot for support"
   ]
  },
  {
   "cell_type": "code",
   "execution_count": 34,
   "metadata": {},
   "outputs": [
    {
     "data": {
      "text/plain": [
       "<Axes: xlabel='KDA', ylabel='Win %'>"
      ]
     },
     "execution_count": 34,
     "metadata": {},
     "output_type": "execute_result"
    },
    {
     "data": {
      "image/png": "[encoded data removed]",
      "text/plain": [
       "<Figure size 640x480 with 1 Axes>"
      ]
     },
     "metadata": {},
     "output_type": "display_data"
    }
   ],
   "source": [
    "role_support.plot.scatter(x='KDA', y='Win %')"
   ]
  },
  {
   "cell_type": "markdown",
   "metadata": {},
   "source": [
    "Looking at the results we can see a positive trend for every role meaning as kda goes up the winrate goes up. This makes sense when thinking about the game because if you get more kills and assists, while not dying as much it most likely means you are winning more fights. By more  winning more fights you can get more objectives in the game, which will give you a way higher chance of winning that match in the end. Therefore increasing the winrate. For top I thought that the trend wouldn't be as noticeable because in the top role you often are invovled in less fights overall, but I was surprised that the trend was still very noticeable even though I would say it is less so than the other roles."
   ]
  },
  {
   "cell_type": "markdown",
   "metadata": {},
   "source": [
    "# Section 4: Data Science"
   ]
  },
  {
   "cell_type": "markdown",
   "metadata": {},
   "source": [
    "I'm going to use hypothesis testing for my question. My question is do champions that are banned more often have a higher winrate than the average? In this test I will be counting a ban rate over 5% or equal to 5% as high. I will also be calculating the average winrate for all champions and using that as the average. I'm going to use a one sided z-test for this hypothesis test since I'm only checking if it is more than.  \n",
    "\n",
    "The Null hypothesis: The average winrate for high ban rate champions is = average winrate of all champions.  \n",
    "The Alternative hypothesis: THe average winrate for high ban rate champions is more than the average winrate of all champions."
   ]
  },
  {
   "cell_type": "markdown",
   "metadata": {},
   "source": [
    "To start I will create a dataframe for champions with a banrate higher than 5% and a variable with average winrate for all champions."
   ]
  },
  {
   "cell_type": "code",
   "execution_count": 36,
   "metadata": {},
   "outputs": [
    {
     "data": {
      "text/html": [
       "<div>\n",
       "<style scoped>\n",
       "    .dataframe tbody tr th:only-of-type {\n",
       "        vertical-align: middle;\n",
       "    }\n",
       "\n",
       "    .dataframe tbody tr th {\n",
       "        vertical-align: top;\n",
       "    }\n",
       "\n",
       "    .dataframe thead th {\n",
       "        text-align: right;\n",
       "    }\n",
       "</style>\n",
       "<table border=\"1\" class=\"dataframe\">\n",
       "  <thead>\n",
       "    <tr style=\"text-align: right;\">\n",
       "      <th></th>\n",
       "      <th>Name</th>\n",
       "      <th>Class</th>\n",
       "      <th>Role</th>\n",
       "      <th>Tier</th>\n",
       "      <th>Score</th>\n",
       "      <th>Trend</th>\n",
       "      <th>Win %</th>\n",
       "      <th>Role %</th>\n",
       "      <th>Pick %</th>\n",
       "      <th>Ban %</th>\n",
       "      <th>KDA</th>\n",
       "    </tr>\n",
       "  </thead>\n",
       "  <tbody>\n",
       "    <tr>\n",
       "      <th>0</th>\n",
       "      <td>Aatrox</td>\n",
       "      <td>Fighter</td>\n",
       "      <td>TOP</td>\n",
       "      <td>God</td>\n",
       "      <td>71.25</td>\n",
       "      <td>-3.39</td>\n",
       "      <td>48.84</td>\n",
       "      <td>92.28</td>\n",
       "      <td>7.01</td>\n",
       "      <td>5.81</td>\n",
       "      <td>1.85</td>\n",
       "    </tr>\n",
       "    <tr>\n",
       "      <th>1</th>\n",
       "      <td>Ahri</td>\n",
       "      <td>Mage</td>\n",
       "      <td>MID</td>\n",
       "      <td>God</td>\n",
       "      <td>77.12</td>\n",
       "      <td>-5.03</td>\n",
       "      <td>50.90</td>\n",
       "      <td>95.23</td>\n",
       "      <td>10.63</td>\n",
       "      <td>6.47</td>\n",
       "      <td>2.63</td>\n",
       "    </tr>\n",
       "    <tr>\n",
       "      <th>2</th>\n",
       "      <td>Akali</td>\n",
       "      <td>Assassin</td>\n",
       "      <td>MID</td>\n",
       "      <td>A</td>\n",
       "      <td>55.37</td>\n",
       "      <td>-5.08</td>\n",
       "      <td>48.18</td>\n",
       "      <td>78.45</td>\n",
       "      <td>5.99</td>\n",
       "      <td>8.10</td>\n",
       "      <td>2.30</td>\n",
       "    </tr>\n",
       "    <tr>\n",
       "      <th>3</th>\n",
       "      <td>Akali</td>\n",
       "      <td>Assassin</td>\n",
       "      <td>TOP</td>\n",
       "      <td>C</td>\n",
       "      <td>36.35</td>\n",
       "      <td>-0.60</td>\n",
       "      <td>48.50</td>\n",
       "      <td>20.39</td>\n",
       "      <td>1.45</td>\n",
       "      <td>8.10</td>\n",
       "      <td>2.06</td>\n",
       "    </tr>\n",
       "    <tr>\n",
       "      <th>4</th>\n",
       "      <td>Akshan</td>\n",
       "      <td>Marksman</td>\n",
       "      <td>MID</td>\n",
       "      <td>B</td>\n",
       "      <td>47.25</td>\n",
       "      <td>-1.50</td>\n",
       "      <td>50.15</td>\n",
       "      <td>69.32</td>\n",
       "      <td>2.88</td>\n",
       "      <td>5.94</td>\n",
       "      <td>2.16</td>\n",
       "    </tr>\n",
       "    <tr>\n",
       "      <th>...</th>\n",
       "      <td>...</td>\n",
       "      <td>...</td>\n",
       "      <td>...</td>\n",
       "      <td>...</td>\n",
       "      <td>...</td>\n",
       "      <td>...</td>\n",
       "      <td>...</td>\n",
       "      <td>...</td>\n",
       "      <td>...</td>\n",
       "      <td>...</td>\n",
       "      <td>...</td>\n",
       "    </tr>\n",
       "    <tr>\n",
       "      <th>230</th>\n",
       "      <td>Yasuo</td>\n",
       "      <td>Fighter</td>\n",
       "      <td>ADC</td>\n",
       "      <td>B</td>\n",
       "      <td>40.10</td>\n",
       "      <td>7.72</td>\n",
       "      <td>50.87</td>\n",
       "      <td>11.31</td>\n",
       "      <td>1.89</td>\n",
       "      <td>21.08</td>\n",
       "      <td>2.01</td>\n",
       "    </tr>\n",
       "    <tr>\n",
       "      <th>231</th>\n",
       "      <td>Yone</td>\n",
       "      <td>Assassin</td>\n",
       "      <td>MID</td>\n",
       "      <td>S</td>\n",
       "      <td>58.02</td>\n",
       "      <td>-1.12</td>\n",
       "      <td>49.25</td>\n",
       "      <td>54.68</td>\n",
       "      <td>6.82</td>\n",
       "      <td>7.36</td>\n",
       "      <td>1.89</td>\n",
       "    </tr>\n",
       "    <tr>\n",
       "      <th>232</th>\n",
       "      <td>Yone</td>\n",
       "      <td>Assassin</td>\n",
       "      <td>TOP</td>\n",
       "      <td>S</td>\n",
       "      <td>57.20</td>\n",
       "      <td>1.88</td>\n",
       "      <td>49.34</td>\n",
       "      <td>41.19</td>\n",
       "      <td>4.81</td>\n",
       "      <td>7.36</td>\n",
       "      <td>1.63</td>\n",
       "    </tr>\n",
       "    <tr>\n",
       "      <th>234</th>\n",
       "      <td>Yuumi</td>\n",
       "      <td>Support</td>\n",
       "      <td>SUPPORT</td>\n",
       "      <td>S</td>\n",
       "      <td>69.04</td>\n",
       "      <td>-4.32</td>\n",
       "      <td>46.68</td>\n",
       "      <td>98.78</td>\n",
       "      <td>7.67</td>\n",
       "      <td>14.06</td>\n",
       "      <td>4.18</td>\n",
       "    </tr>\n",
       "    <tr>\n",
       "      <th>237</th>\n",
       "      <td>Zed</td>\n",
       "      <td>Assassin</td>\n",
       "      <td>MID</td>\n",
       "      <td>God</td>\n",
       "      <td>90.84</td>\n",
       "      <td>2.83</td>\n",
       "      <td>50.02</td>\n",
       "      <td>84.93</td>\n",
       "      <td>11.50</td>\n",
       "      <td>30.48</td>\n",
       "      <td>2.26</td>\n",
       "    </tr>\n",
       "  </tbody>\n",
       "</table>\n",
       "<p>86 rows × 11 columns</p>\n",
       "</div>"
      ],
      "text/plain": [
       "       Name     Class     Role Tier  Score  Trend  Win %  Role %  Pick %  \\\n",
       "0    Aatrox   Fighter      TOP  God  71.25  -3.39  48.84   92.28    7.01   \n",
       "1      Ahri      Mage      MID  God  77.12  -5.03  50.90   95.23   10.63   \n",
       "2     Akali  Assassin      MID    A  55.37  -5.08  48.18   78.45    5.99   \n",
       "3     Akali  Assassin      TOP    C  36.35  -0.60  48.50   20.39    1.45   \n",
       "4    Akshan  Marksman      MID    B  47.25  -1.50  50.15   69.32    2.88   \n",
       "..      ...       ...      ...  ...    ...    ...    ...     ...     ...   \n",
       "230   Yasuo   Fighter      ADC    B  40.10   7.72  50.87   11.31    1.89   \n",
       "231    Yone  Assassin      MID    S  58.02  -1.12  49.25   54.68    6.82   \n",
       "232    Yone  Assassin      TOP    S  57.20   1.88  49.34   41.19    4.81   \n",
       "234   Yuumi   Support  SUPPORT    S  69.04  -4.32  46.68   98.78    7.67   \n",
       "237     Zed  Assassin      MID  God  90.84   2.83  50.02   84.93   11.50   \n",
       "\n",
       "     Ban %   KDA  \n",
       "0     5.81  1.85  \n",
       "1     6.47  2.63  \n",
       "2     8.10  2.30  \n",
       "3     8.10  2.06  \n",
       "4     5.94  2.16  \n",
       "..     ...   ...  \n",
       "230  21.08  2.01  \n",
       "231   7.36  1.89  \n",
       "232   7.36  1.63  \n",
       "234  14.06  4.18  \n",
       "237  30.48  2.26  \n",
       "\n",
       "[86 rows x 11 columns]"
      ]
     },
     "execution_count": 36,
     "metadata": {},
     "output_type": "execute_result"
    }
   ],
   "source": [
    "high_ban_rate = df[df['Ban %'] >= 5] \n",
    "avg_win_rate = df['Win %'].mean() \n",
    "high_ban_rate \n"
   ]
  },
  {
   "cell_type": "markdown",
   "metadata": {},
   "source": [
    "Next I will import and perform the z-test using the average winrate and 'larger' since this is a one sided z-test I just want to see if it is more than."
   ]
  },
  {
   "cell_type": "code",
   "execution_count": 39,
   "metadata": {},
   "outputs": [
    {
     "data": {
      "text/plain": [
       "(-1.3726914876836362, 0.9150758617009522)"
      ]
     },
     "execution_count": 39,
     "metadata": {},
     "output_type": "execute_result"
    }
   ],
   "source": [
    "from statsmodels.stats.weightstats import ztest \n",
    "results = ztest(high_ban_rate['Win %'], value=avg_win_rate, alternative='larger') \n",
    "results"
   ]
  },
  {
   "cell_type": "markdown",
   "metadata": {},
   "source": [
    "### Analysis \n",
    "\n",
    "We do not reject the null hypothesis since our p-value(0.915) is way higher than a significance level of 0.05. This means that we don't have enough evidence to say that higher ban rate champions have a higher than average winrate. This surprised me because you would figure that champions that are banned more would be banned because they are too good leading them winning more games when they are played, but obviously this is likely to be untrue."
   ]
  },
  {
   "cell_type": "markdown",
   "metadata": {},
   "source": [
    "# Section 5: Overall Summary"
   ]
  },
  {
   "cell_type": "markdown",
   "metadata": {},
   "source": [
    "My dataset contains the season 13 stats for each champion in *League of Legends*, which I chose due to my love for the game. I wanted to focus on champion stats to understand more about the roles and their impact on the game. I found that top and support roles generally have the lowest win rates, which aligns with the common belief that these roles have less impact on the game's outcome.\n",
    "\n",
    "I also observed a positive trend for every role, where a higher KDA (kills-deaths-assists ratio) led to a higher win rate. This makes sense, as more successful fights lead to more objectives and that leads to more wins. Surprisingly, in my hypothesis test, I found no significant evidence to suggest that champions with higher ban rates have higher win rates than average. This challenged my assumption that banned champions are stronger and more likely to win games."
   ]
  },
  {
   "cell_type": "markdown",
   "metadata": {},
   "source": []
  }
 ],
 "metadata": {
  "kernelspec": {
   "display_name": "Python 3",
   "language": "python",
   "name": "python3"
  },
  "language_info": {
   "codemirror_mode": {
    "name": "ipython",
    "version": 3
   },
   "file_extension": ".py",
   "mimetype": "text/x-python",
   "name": "python",
   "nbconvert_exporter": "python",
   "pygments_lexer": "ipython3",
   "version": "3.12.3"
  }
 },
 "nbformat": 4,
 "nbformat_minor": 2
}
